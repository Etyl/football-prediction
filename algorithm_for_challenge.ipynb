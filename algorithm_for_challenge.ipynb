{
 "cells": [
  {
   "cell_type": "code",
   "execution_count": null,
   "metadata": {},
   "outputs": [],
   "source": [
    "from sklearn.preprocessing import LabelEncoder, OneHotEncoder\n",
    "from sklearn.utils import resample\n",
    "from scipy import ndimage\n",
    "from scipy.ndimage import rotate\n",
    "from scipy import stats\n",
    "import matplotlib.pyplot as plt\n",
    "import numpy as np\n"
   ]
  },
  {
   "cell_type": "markdown",
   "metadata": {},
   "source": [
    "### **Analyse des métadonnées**"
   ]
  },
  {
   "cell_type": "code",
   "execution_count": null,
   "metadata": {},
   "outputs": [],
   "source": [
    "df = pd.read_csv('metadataTrain.csv')\n",
    "df.shape[0]\n",
    "df.head()"
   ]
  },
  {
   "cell_type": "code",
   "execution_count": null,
   "metadata": {},
   "outputs": [],
   "source": [
    "# Remplacer les valeurs manquantes dans la colonne SEX par la valeur male\n",
    "df['SEX'].fillna('male', inplace=True)\n",
    "\n",
    "# Remplacer les valeurs manquantes dans la colonne 'AGE' par la moyenne des âges\n",
    "df['AGE'].fillna(df['AGE'].mean(), inplace=True)\n",
    "\n",
    "# Remplacer les valeurs manquantes dans la colonne 'position' par 'unknown'\n",
    "df['POSITION'].fillna('unknown', inplace=True)\n",
    "\n",
    "# on vérifie qu'il y a bien aucune valeur Nan.\n",
    "df.isna().sum()"
   ]
  },
  {
   "cell_type": "code",
   "execution_count": null,
   "metadata": {},
   "outputs": [],
   "source": [
    "##Encode Nan\n",
    "le = LabelEncoder()\n",
    "# Conversion des valeurs 'male' et 'female' en 1 et 0 respectivement\n",
    "df['SEX'] = le.fit_transform(df['SEX'])\n",
    "\n",
    "ohe = OneHotEncoder()\n",
    "position_encoded = ohe.fit_transform(df[['POSITION']]).toarray()\n",
    "# Création de nouvelles colonnes pour chaque position unique\n",
    "for i, category in enumerate(ohe.categories_[0]):\n",
    "    df[category] = position_encoded[:, i]\n",
    "# Suppression de la colonne 'position' originale\n",
    "df = df.drop('POSITION', axis=1)\n",
    "df.head()"
   ]
  },
  {
   "cell_type": "code",
   "execution_count": null,
   "metadata": {},
   "outputs": [],
   "source": [
    "# plot distributions\n",
    "\n",
    "fig,ax = plt.subplots(1,2,figsize=(10,5))\n",
    "ax[0].hist(df['AGE'], bins=20, color='b', alpha=0.7, rwidth=0.85)\n",
    "ax[0].set_title('Age Distribution')\n",
    "ax[0].set_xlabel('Age')\n",
    "ax[0].set_ylabel('Frequency')\n",
    "\n",
    "ax[1].hist(df['CLASS'], bins=20, color='r', alpha=0.7, rwidth=0.85)\n",
    "ax[1].set_title('Class Distribution')\n",
    "ax[1].set_xlabel('Class')\n",
    "ax[1].set_ylabel('Frequency')\n",
    "\n",
    "plt.tight_layout()\n",
    "plt.show()"
   ]
  },
  {
   "cell_type": "markdown",
   "metadata": {},
   "source": [
    "### **machine learning**"
   ]
  },
  {
   "cell_type": "code",
   "execution_count": null,
   "metadata": {},
   "outputs": [],
   "source": [
    "from sklearn.ensemble import RandomForestClassifier\n",
    "from sklearn.model_selection import GridSearchCV, train_test_split, cross_val_score\n",
    "from sklearn.preprocessing import StandardScaler\n",
    "from sklearn.svm import LinearSVC, SVC\n",
    "from imblearn.pipeline import make_pipeline as make_pipeline2\n",
    "from sklearn.metrics import accuracy_score, confusion_matrix, classification_report\n",
    "import seaborn as sns\n",
    "from imblearn.over_sampling import ADASYN\n",
    "from sklearn.neighbors import KNeighborsClassifier\n",
    "from imblearn.over_sampling import ADASYN\n",
    "import pandas as pd"
   ]
  },
  {
   "cell_type": "code",
   "execution_count": null,
   "metadata": {},
   "outputs": [],
   "source": [
    "train_data = pd.read_csv('features_train.csv')\n",
    "X = train_data.drop(['ID', 'CLASS'], axis=1)\n",
    "y = train_data['CLASS']"
   ]
  },
  {
   "cell_type": "code",
   "execution_count": null,
   "metadata": {},
   "outputs": [],
   "source": [
    "X_train, X_test, y_train, y_test = train_test_split(X, y, test_size=0.2, random_state=42)\n",
    "param_grid = {\n",
    "    'n_estimators': [500, 1000, 1500],\n",
    "    'min_samples_leaf': [2, 5, 10],\n",
    "}\n",
    "RF = RandomForestClassifier()\n",
    "grid_search = GridSearchCV(estimator=RF, param_grid=param_grid, cv=3, n_jobs=-1, verbose=4)\n",
    "grid_search.fit(X_train, y_train)\n",
    "y_pred = grid_search.predict(X_test)\n",
    "\n",
    "print('Accuracy:', accuracy_score(y_test, y_pred))"
   ]
  },
  {
   "cell_type": "code",
   "execution_count": null,
   "metadata": {},
   "outputs": [],
   "source": [
    "cm = confusion_matrix(y_test, y_pred)\n",
    "\n",
    "plt.figure(figsize=(7, 5))\n",
    "sns.heatmap(cm, annot=True, fmt='d', cmap='Blues')\n",
    "plt.title('Matrice de confusion')   \n",
    "plt.ylabel('Vraies classes')\n",
    "plt.xlabel('Classes prédites')\n",
    "plt.show()"
   ]
  },
  {
   "cell_type": "code",
   "execution_count": null,
   "metadata": {},
   "outputs": [],
   "source": [
    "train_data = pd.read_csv('features_train_not_upsampled.csv')\n",
    "X = train_data.drop(['ID', 'CLASS'], axis=1)\n",
    "y = train_data['CLASS']\n",
    "\n",
    "X_train, X_test, y_train, y_test = train_test_split(X, y, test_size=0.2, random_state=42)\n",
    "\n",
    "\n",
    "RF = make_pipeline2(ADASYN(random_state=0),StandardScaler(),RandomForestClassifier(n_estimators=500)) \n",
    "RF.fit(X_train, y_train)\n",
    "y_pred = RF.predict(X_test)\n",
    "\n",
    "print('Accuracy:', accuracy_score(y_test, y_pred))\n",
    "\n",
    "test_data = pd.read_csv('features_test.csv')\n",
    "X_test = test_data.drop(['ID'], axis=1)\n",
    "\n",
    "Y_pred = RF.predict(X_test)\n",
    "test_data['CLASS'] = Y_pred\n",
    "new_submission = test_data[['ID', 'CLASS']]\n",
    "new_submission.to_csv('nouvelle_submission_RF_adasyn.csv', index=False)"
   ]
  },
  {
   "cell_type": "code",
   "execution_count": 1,
   "metadata": {},
   "outputs": [],
   "source": [
    "### fit a distribution\n",
    "# Assuming df is your DataFrame and 'feature' is your column of interest\n",
    "plt.hist(df['feature'], bins=30)\n",
    "plt.xlabel('Feature')\n",
    "plt.ylabel('Frequency')\n",
    "plt.title('Histogram of Feature')\n",
    "plt.show()"
   ]
  },
  {
   "cell_type": "code",
   "execution_count": null,
   "metadata": {},
   "outputs": [],
   "source": [
    "import seaborn as sns\n",
    "\n",
    "# Assuming df is your DataFrame and 'feature' is your column of interest\n",
    "sns.kdeplot(df['feature'])\n",
    "plt.xlabel('Feature')\n",
    "plt.title('Kernel Density Estimation of Feature')\n",
    "plt.show()"
   ]
  },
  {
   "cell_type": "code",
   "execution_count": null,
   "metadata": {},
   "outputs": [],
   "source": [
    "from scipy.stats import norm\n",
    "# Assuming data is your feature\n",
    "mu, std = norm.fit(data)\n",
    "\n",
    "# Plot the histogram\n",
    "plt.hist(data, bins=30, density=True, alpha=0.6, color='g')\n",
    "\n",
    "# Plot the PDF\n",
    "xmin, xmax = plt.xlim()\n",
    "x = np.linspace(xmin, xmax, 100)\n",
    "p = norm.pdf(x, mu, std)\n",
    "plt.plot(x, p, 'k', linewidth=2)\n",
    "title = \"Fit results: mu = %.2f,  std = %.2f\" % (mu, std)\n",
    "plt.title(title)\n",
    "\n",
    "plt.show()"
   ]
  },
  {
   "cell_type": "code",
   "execution_count": null,
   "metadata": {},
   "outputs": [],
   "source": [
    "#### transport 1d\n",
    "def transport1D(X,Y):\n",
    "    sx = np.argsort(X) #argsort retourne les indices des valeurs s'ils étaient ordonnés par ordre croissant   \n",
    "    sy = np.argsort(Y)\n",
    "    return((sx,sy)) "
   ]
  }
 ],
 "metadata": {
  "kernelspec": {
   "display_name": "Python 3",
   "language": "python",
   "name": "python3"
  },
  "language_info": {
   "codemirror_mode": {
    "name": "ipython",
    "version": 3
   },
   "file_extension": ".py",
   "mimetype": "text/x-python",
   "name": "python",
   "nbconvert_exporter": "python",
   "pygments_lexer": "ipython3",
   "version": "3.9.5"
  }
 },
 "nbformat": 4,
 "nbformat_minor": 2
}
