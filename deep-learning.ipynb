{
 "cells": [
  {
   "cell_type": "code",
   "execution_count": 1,
   "metadata": {},
   "outputs": [],
   "source": [
    "import os\n",
    "import numpy as np\n",
    "import pandas as pd\n",
    "import tqdm\n",
    "import matplotlib.pyplot as plt\n",
    "\n",
    "from sklearn.preprocessing import MinMaxScaler\n",
    "from sklearn.model_selection import train_test_split\n",
    "\n",
    "import torch\n",
    "import torch.nn as nn\n",
    "import torch.optim as optim\n"
   ]
  },
  {
   "cell_type": "code",
   "execution_count": 3,
   "metadata": {},
   "outputs": [],
   "source": [
    "# Read the training data from a CSV file\n",
    "training_data_home = pd.read_csv('data/Train_Data/train_home_team_statistics_df.csv')\n",
    "training_data_away = pd.read_csv('data/Train_Data/train_away_team_statistics_df.csv')\n",
    "training_data_away_player = pd.read_csv('data/Train_Data/train_away_player_statistics_df.csv')\n",
    "training_data_home_player = pd.read_csv('data/Train_Data/train_home_player_statistics_df.csv')\n",
    "train_y = pd.read_csv('data/Train_Data/Y_train_supp.csv')\n"
   ]
  },
  {
   "cell_type": "code",
   "execution_count": 50,
   "metadata": {},
   "outputs": [],
   "source": [
    "# treat the data\n",
    "\n",
    "# Convert the training data to numpy arrays\n",
    "training_data_home_np = training_data_home.iloc[:, 3:].values\n",
    "training_data_away_np = training_data_away.iloc[:, 3:].values\n",
    "\n",
    "# Normalize the columns of the training data between 0 and 1\n",
    "scaler = MinMaxScaler(feature_range=(0, 1))\n",
    "training_data_home_np = scaler.fit_transform(training_data_home_np)\n",
    "training_data_away_np = scaler.fit_transform(training_data_away_np)\n",
    "\n",
    "# Replace NaN values with 0\n",
    "training_data_home_np = np.nan_to_num(training_data_home_np)\n",
    "training_data_away_np = np.nan_to_num(training_data_away_np)\n",
    "\n",
    "# Convert the numpy arrays back to PyTorch tensors\n",
    "train_data_home_t = torch.Tensor(training_data_home_np)\n",
    "train_data_away_t = torch.Tensor(training_data_away_np)\n",
    "\n",
    "\n",
    "train_data_total_t = torch.cat((train_data_home_t, train_data_away_t), 1)\n",
    "train_y_total_t = torch.Tensor(train_y.iloc[:,1:].values)\n",
    "train_y_total_t = torch.div(torch.clamp(train_y_total_t, -3, 3),3)\n",
    "\n",
    "train_data_t, test_data_t, train_y_t, test_y_t = train_test_split(train_data_total_t, train_y_total_t, test_size=0.2, random_state=42)\n",
    "\n",
    "#training_data_away_player_t = torch.Tensor(training_data_away_player.iloc[:, 3:].values)\n",
    "#training_data_home_player_t = torch.Tensor(training_data_home_player.iloc[:, 3:].values)\n"
   ]
  },
  {
   "cell_type": "code",
   "execution_count": 47,
   "metadata": {},
   "outputs": [],
   "source": [
    "output_size = 2*3+1 # classification with difference in goals [-3,3]\n",
    "\n",
    "num_epochs = 100\n",
    "batch_size = 128\n",
    "input_size = 2*train_data_home_t.shape[1]\n",
    "\n",
    "# Params for optimizer\n",
    "learning_rate = 0.0001\n",
    "learning_rate_step = 10\n",
    "learning_rate_gamma = 1\n",
    "weight_decay = 1e-3\n"
   ]
  },
  {
   "cell_type": "code",
   "execution_count": 57,
   "metadata": {},
   "outputs": [
    {
     "name": "stderr",
     "output_type": "stream",
     "text": [
      "  0%|          | 0/100 [00:00<?, ?it/s]"
     ]
    }
   ],
   "source": [
    "# Define the network architecture\n",
    "class NeuralNetwork(nn.Module):\n",
    "    def __init__(self):\n",
    "        super(NeuralNetwork, self).__init__()\n",
    "        \n",
    "        self.nn = nn.Sequential(\n",
    "            nn.Linear(input_size, 512),\n",
    "            nn.LeakyReLU(),\n",
    "            nn.Linear(512, 128),\n",
    "        )\n",
    "\n",
    "        self.nn_output = nn.Sequential(\n",
    "            nn.LeakyReLU(),\n",
    "            nn.Linear(128, 1),\n",
    "            nn.Tanh()\n",
    "        )\n",
    "\n",
    "    def forward(self, x):\n",
    "        # Define the forward pass of your network\n",
    "        logits = self.nn(x)\n",
    "        return self.nn_output(logits)\n",
    "\n",
    "# Create an instance of the neural network\n",
    "model = NeuralNetwork()\n",
    "\n",
    "# Define the loss function\n",
    "criterion = nn.MSELoss()\n",
    "\n",
    "# Define the optimizer\n",
    "optimizer = optim.Adam(model.parameters(), lr=learning_rate,  weight_decay=weight_decay)\n",
    "\n",
    "scheduler = optim.lr_scheduler.StepLR(optimizer, step_size=learning_rate_step, gamma=learning_rate_gamma)\n",
    "\n",
    "\n",
    "total_loss = []\n",
    "accuracy = []\n",
    "accuracy_test = []\n",
    "# Train the network\n",
    "for epoch in tqdm.tqdm(range(num_epochs)):\n",
    "    # Forward pass\n",
    "    ids = np.arange(len(train_data_t))\n",
    "    np.random.shuffle(ids)\n",
    "    current_loss = 0\n",
    "    success = 0\n",
    "    total = 0\n",
    "    \n",
    "    for i in range(0, len(ids), batch_size):\n",
    "        # Get the batch of data\n",
    "        batch_ids = ids[i:i+batch_size]\n",
    "        batch_data = [train_data_t[j] for j in batch_ids]\n",
    "        batch_labels = [train_y_t[j] for j in batch_ids]\n",
    "\n",
    "        # Convert the batch data and labels to tensors\n",
    "        batch_data = torch.stack(batch_data)\n",
    "        batch_labels = torch.stack(batch_labels)\n",
    "\n",
    "        # Forward pass\n",
    "        outputs = model(batch_data)\n",
    "        loss = criterion(outputs, batch_labels)\n",
    "        current_loss += loss.item()\n",
    "\n",
    "        # Backward and optimize\n",
    "        optimizer.zero_grad()\n",
    "        loss.backward()\n",
    "        optimizer.step()\n",
    "\n",
    "        total += len(outputs)\n",
    "        for j in range(len(outputs)):\n",
    "            k1 = outputs[j].item()\n",
    "            k2 = batch_labels[j].item()\n",
    "            if (k2>0.2 and k1>0.2) or (k2<=0.2 and k1<=0.2 and k2>=-0.2 and k1 >= 0.2) or (k2<-0.2 and k1<-0.2):\n",
    "                success += 1\n",
    "\n",
    "    accuracy.append(success/total)\n",
    "\n",
    "    success = 0\n",
    "    outputs = model(test_data_t)\n",
    "    for i in range(len(test_data_t)):\n",
    "        k1 = outputs[j].item()\n",
    "        k2 = test_y_t[j].item()\n",
    "        if (k2>0.2 and k1>0.2) or (k2<=0.2 and k1<=0.2 and k2>=-0.2 and k1 >= 0.2) or (k2<-0.2 and k1<-0.2):\n",
    "                success += 1\n",
    "    accuracy_test.append(success/len(test_data_t))\n",
    "\n",
    "    total_loss.append(batch_size*current_loss/len(training_data_home))\n",
    "    scheduler.step()\n",
    "\n"
   ]
  },
  {
   "cell_type": "code",
   "execution_count": 56,
   "metadata": {},
   "outputs": [
    {
     "data": {
      "image/png": "[encoded data removed]",
      "text/plain": [
       "<Figure size 640x480 with 1 Axes>"
      ]
     },
     "metadata": {},
     "output_type": "display_data"
    },
    {
     "data": {
      "image/png": "[encoded data removed]",
      "text/plain": [
       "<Figure size 640x480 with 1 Axes>"
      ]
     },
     "metadata": {},
     "output_type": "display_data"
    },
    {
     "name": "stdout",
     "output_type": "stream",
     "text": [
      "Training accuracy:  0.726681568786832\n",
      "Test accuracy:  1.0\n"
     ]
    }
   ],
   "source": [
    "plt.figure()\n",
    "plt.plot(total_loss)\n",
    "\n",
    "plt.figure()\n",
    "plt.grid()\n",
    "plt.plot(accuracy, label=\"train\")\n",
    "plt.plot(accuracy_test, label=\"test\")\n",
    "plt.show()\n",
    "\n",
    "print(\"Training accuracy: \", accuracy[-1])\n",
    "print(\"Test accuracy: \", accuracy_test[-1])"
   ]
  },
  {
   "cell_type": "code",
   "execution_count": 1,
   "metadata": {},
   "outputs": [
    {
     "ename": "NameError",
     "evalue": "name 'pd' is not defined",
     "output_type": "error",
     "traceback": [
      "\u001b[0;31m---------------------------------------------------------------------------\u001b[0m",
      "\u001b[0;31mNameError\u001b[0m                                 Traceback (most recent call last)",
      "\u001b[0;32m/tmp/ipykernel_8298/1896973182.py\u001b[0m in \u001b[0;36m<module>\u001b[0;34m\u001b[0m\n\u001b[1;32m      1\u001b[0m \u001b[0;31m# Read the testing data from a CSV file\u001b[0m\u001b[0;34m\u001b[0m\u001b[0;34m\u001b[0m\u001b[0m\n\u001b[0;32m----> 2\u001b[0;31m \u001b[0mtest_data_home\u001b[0m \u001b[0;34m=\u001b[0m \u001b[0mpd\u001b[0m\u001b[0;34m.\u001b[0m\u001b[0mread_csv\u001b[0m\u001b[0;34m(\u001b[0m\u001b[0;34m'data/Test_Data/test_home_team_statistics_df.csv'\u001b[0m\u001b[0;34m)\u001b[0m\u001b[0;34m\u001b[0m\u001b[0;34m\u001b[0m\u001b[0m\n\u001b[0m\u001b[1;32m      3\u001b[0m \u001b[0mtest_data_away\u001b[0m \u001b[0;34m=\u001b[0m \u001b[0mpd\u001b[0m\u001b[0;34m.\u001b[0m\u001b[0mread_csv\u001b[0m\u001b[0;34m(\u001b[0m\u001b[0;34m'data/Test_Data/test_away_team_statistics_df.csv'\u001b[0m\u001b[0;34m)\u001b[0m\u001b[0;34m\u001b[0m\u001b[0;34m\u001b[0m\u001b[0m\n",
      "\u001b[0;31mNameError\u001b[0m: name 'pd' is not defined"
     ]
    }
   ],
   "source": [
    "# Read the testing data from a CSV file\n",
    "test_data_home = pd.read_csv('data/Test_Data/test_home_team_statistics_df.csv')\n",
    "test_data_away = pd.read_csv('data/Test_Data/test_away_team_statistics_df.csv')\n"
   ]
  },
  {
   "cell_type": "code",
   "execution_count": 24,
   "metadata": {},
   "outputs": [],
   "source": [
    "test_data_home.max().to_csv('data/test_home_stats.csv')"
   ]
  },
  {
   "cell_type": "code",
   "execution_count": 138,
   "metadata": {},
   "outputs": [],
   "source": [
    "# treat the data\n",
    "\n",
    "# Convert the training data to numpy arrays\n",
    "test_data_home_np = test_data_home.iloc[:, 1:].values\n",
    "test_data_away_np = test_data_away.iloc[:, 1:].values\n",
    "\n",
    "# Normalize the columns of the training data between 0 and 1\n",
    "scaler = MinMaxScaler(feature_range=(0, 1))\n",
    "test_data_home_np = scaler.fit_transform(test_data_home_np)\n",
    "test_data_away_np = scaler.fit_transform(test_data_away_np)\n",
    "\n",
    "# Replace NaN values with 0\n",
    "test_data_home_np = np.nan_to_num(test_data_home_np)\n",
    "test_data_away_np = np.nan_to_num(test_data_away_np)\n",
    "\n",
    "# Convert the numpy arrays back to PyTorch tensors\n",
    "test_data_home_t = torch.Tensor(test_data_home_np)\n",
    "test_data_away_t = torch.Tensor(test_data_away_np)"
   ]
  },
  {
   "cell_type": "code",
   "execution_count": 139,
   "metadata": {},
   "outputs": [],
   "source": [
    "y_test = []\n",
    "\n",
    "for i in range(len(test_data_home_t)):\n",
    "    x = torch.cat((test_data_home_t[i], test_data_away_t[i]), 0)\n",
    "    output = model(x)\n",
    "    y = np.zeros(3)\n",
    "    y[torch.argmax(output).item()] = 1\n",
    "    y_test.append(y)\n",
    "\n"
   ]
  },
  {
   "cell_type": "code",
   "execution_count": 140,
   "metadata": {},
   "outputs": [],
   "source": [
    "with open('data/Y_test.csv', 'w') as f:\n",
    "    f.write('ID,HOME_WINS,DRAW,AWAY_WINS\\n')\n",
    "    for i, y in enumerate(y_test):\n",
    "        f.write(f'{test_data_home.iloc[i,0]},')\n",
    "        f.write(\",\".join([str(int(x)) for x in y])+\"\\n\")"
   ]
  }
 ],
 "metadata": {
  "kernelspec": {
   "display_name": "Python 3",
   "language": "python",
   "name": "python3"
  },
  "language_info": {
   "codemirror_mode": {
    "name": "ipython",
    "version": 3
   },
   "file_extension": ".py",
   "mimetype": "text/x-python",
   "name": "python",
   "nbconvert_exporter": "python",
   "pygments_lexer": "ipython3",
   "version": "3.11.4"
  }
 },
 "nbformat": 4,
 "nbformat_minor": 2
}
